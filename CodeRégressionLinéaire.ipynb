{
  "nbformat": 4,
  "nbformat_minor": 0,
  "metadata": {
    "colab": {
      "provenance": [],
      "mount_file_id": "1xD4WHHu_8opowndWge3vOO_tC7wyNE8J",
      "authorship_tag": "ABX9TyNUTIGILnj5UDMf3I7m+3kA",
      "include_colab_link": true
    },
    "kernelspec": {
      "name": "python3",
      "display_name": "Python 3"
    },
    "language_info": {
      "name": "python"
    }
  },
  "cells": [
    {
      "cell_type": "markdown",
      "metadata": {
        "id": "view-in-github",
        "colab_type": "text"
      },
      "source": [
        "<a href=\"https://colab.research.google.com/github/hnioua/Introduction-to-Machine-Learning-/blob/main/CodeR%C3%A9gressionLin%C3%A9aire.ipynb\" target=\"_parent\"><img src=\"https://colab.research.google.com/assets/colab-badge.svg\" alt=\"Open In Colab\"/></a>"
      ]
    },
    {
      "cell_type": "markdown",
      "source": [
        "#Régression Linéaire Simple avec Numpy\n",
        "\n"
      ],
      "metadata": {
        "id": "_3-HcWlt4qe0"
      }
    },
    {
      "cell_type": "code",
      "source": [
        "import numpy as np\n",
        "from sklearn.datasets import make_regression\n",
        "import matplotlib.pyplot as plt"
      ],
      "metadata": {
        "id": "4r6Bzihi43Wp"
      },
      "execution_count": 19,
      "outputs": []
    },
    {
      "cell_type": "code",
      "execution_count": 20,
      "metadata": {
        "colab": {
          "base_uri": "https://localhost:8080/",
          "height": 448
        },
        "id": "fDXPFfmJ4mzS",
        "outputId": "75fd1ba3-59fa-4098-94c9-255137886fd3"
      },
      "outputs": [
        {
          "output_type": "execute_result",
          "data": {
            "text/plain": [
              "<matplotlib.collections.PathCollection at 0x79335f457d10>"
            ]
          },
          "metadata": {},
          "execution_count": 20
        },
        {
          "output_type": "display_data",
          "data": {
            "text/plain": [
              "<Figure size 640x480 with 1 Axes>"
            ],
            "image/png": "[encoded data removed]"
          },
          "metadata": {}
        }
      ],
      "source": [
        "x, y = make_regression(n_samples=1000, n_features=1, noise=5)\n",
        "plt.scatter(x, y) # afficher les résultats."
      ]
    },
    {
      "cell_type": "code",
      "source": [
        "print(x.shape)\n",
        "print(y.shape)"
      ],
      "metadata": {
        "colab": {
          "base_uri": "https://localhost:8080/"
        },
        "id": "kvPOVervj73J",
        "outputId": "9facd7a5-6947-4cea-948f-aec6fc757519"
      },
      "execution_count": 21,
      "outputs": [
        {
          "output_type": "stream",
          "name": "stdout",
          "text": [
            "(1000, 1)\n",
            "(1000,)\n"
          ]
        }
      ]
    },
    {
      "cell_type": "code",
      "source": [
        "# redimensionner y. On remarque que n'y a pas les dimensions(100,1)\n",
        "# on corrige le problème avec np.reshape\n",
        "y = y.reshape(y.shape[0], 1)\n",
        "print(y.shape)"
      ],
      "metadata": {
        "colab": {
          "base_uri": "https://localhost:8080/"
        },
        "id": "qfn9J5-YkKGE",
        "outputId": "554f3002-77b1-44db-a38b-89bf2fea76a5"
      },
      "execution_count": 22,
      "outputs": [
        {
          "output_type": "stream",
          "name": "stdout",
          "text": [
            "(1000, 1)\n"
          ]
        }
      ]
    },
    {
      "cell_type": "code",
      "source": [
        "#matrice X\n",
        "X = np.hstack((x, np.ones(x.shape)))\n",
        "print(X.shape)\n",
        "X"
      ],
      "metadata": {
        "colab": {
          "base_uri": "https://localhost:8080/"
        },
        "id": "pg5yjJBCkbXb",
        "outputId": "4e35b067-4862-4ec4-80b6-94e250e61faf"
      },
      "execution_count": 23,
      "outputs": [
        {
          "output_type": "stream",
          "name": "stdout",
          "text": [
            "(1000, 2)\n"
          ]
        },
        {
          "output_type": "execute_result",
          "data": {
            "text/plain": [
              "array([[ 0.24128887,  1.        ],\n",
              "       [ 0.32577708,  1.        ],\n",
              "       [ 0.17292814,  1.        ],\n",
              "       ...,\n",
              "       [-1.27135474,  1.        ],\n",
              "       [ 0.09788785,  1.        ],\n",
              "       [ 0.72862869,  1.        ]])"
            ]
          },
          "metadata": {},
          "execution_count": 23
        }
      ]
    },
    {
      "cell_type": "code",
      "source": [
        "theta = np.random.randn(2, 1)\n",
        "theta"
      ],
      "metadata": {
        "colab": {
          "base_uri": "https://localhost:8080/"
        },
        "id": "qRlynJLUkiqx",
        "outputId": "b05c002a-b34b-4ec6-faae-836614369ffc"
      },
      "execution_count": 24,
      "outputs": [
        {
          "output_type": "execute_result",
          "data": {
            "text/plain": [
              "array([[0.83426098],\n",
              "       [0.02279374]])"
            ]
          },
          "metadata": {},
          "execution_count": 24
        }
      ]
    },
    {
      "cell_type": "markdown",
      "source": [
        "2. Modèle Linéaire"
      ],
      "metadata": {
        "id": "EzOifMMBksEz"
      }
    },
    {
      "cell_type": "code",
      "source": [
        "def cost_function(X, y, theta):\n",
        "    m = len(y)\n",
        "    return 1/(2*m) * np.sum((model(X, theta) - y)**2)"
      ],
      "metadata": {
        "id": "YBjOWodpj0Pz"
      },
      "execution_count": 25,
      "outputs": []
    },
    {
      "cell_type": "code",
      "source": [
        "def model(X, theta):\n",
        "    return X.dot(theta)\n",
        "plt.scatter(x, y)\n",
        "plt.plot(x, model(X, theta), c='r')"
      ],
      "metadata": {
        "colab": {
          "base_uri": "https://localhost:8080/",
          "height": 448
        },
        "id": "9UGe_3Dsk0sQ",
        "outputId": "4fcb4fd2-1836-4462-a262-6e400bf512c0"
      },
      "execution_count": 26,
      "outputs": [
        {
          "output_type": "execute_result",
          "data": {
            "text/plain": [
              "[<matplotlib.lines.Line2D at 0x79335f4d2550>]"
            ]
          },
          "metadata": {},
          "execution_count": 26
        },
        {
          "output_type": "display_data",
          "data": {
            "text/plain": [
              "<Figure size 640x480 with 1 Axes>"
            ],
            "image/png": "[encoded data removed]"
          },
          "metadata": {}
        }
      ]
    },
    {
      "cell_type": "markdown",
      "source": [
        "3. Fonction Cout"
      ],
      "metadata": {
        "id": "CmlQR9CHk8eH"
      }
    },
    {
      "cell_type": "code",
      "source": [
        "cost_function(X, y, theta)"
      ],
      "metadata": {
        "colab": {
          "base_uri": "https://localhost:8080/"
        },
        "id": "qhYptMpTk8Nw",
        "outputId": "61761783-bf2a-46fd-d975-cad4d1c61947"
      },
      "execution_count": 27,
      "outputs": [
        {
          "output_type": "execute_result",
          "data": {
            "text/plain": [
              "np.float64(805.1504752186545)"
            ]
          },
          "metadata": {},
          "execution_count": 27
        }
      ]
    },
    {
      "cell_type": "markdown",
      "source": [],
      "metadata": {
        "id": "KSDvwkaHoXxD"
      }
    },
    {
      "cell_type": "markdown",
      "source": [
        " 4. Gradients et Descente de Gradient"
      ],
      "metadata": {
        "id": "_EL-KNxylIvX"
      }
    },
    {
      "cell_type": "code",
      "source": [
        "def grad(X, y, theta):\n",
        "    m = len(y)\n",
        "    XT = np.transpose(X)\n",
        "    return 1/m * XT.dot(model(X, theta) - y)"
      ],
      "metadata": {
        "id": "kYAt1XkrkheG"
      },
      "execution_count": 28,
      "outputs": []
    },
    {
      "cell_type": "code",
      "source": [
        "def gradient_descent(X, y, theta, learning_rate, n_iterations):\n",
        "    cost_history = np.zeros(n_iterations)# création d'un tableau de stockage pour enregistrer l'évolution du Cout du modele\n",
        "    for i in range(0, n_iterations):\n",
        "        theta = theta - learning_rate * grad(X, y, theta)# mise a jour du parametre theta (formule du gradient descent)\n",
        "        cost_history[i] = cost_function(X, y, theta)# on enregistre la valeur du Cout au tour i dans cost_history[i]\n",
        "    return theta, cost_history"
      ],
      "metadata": {
        "id": "o78z0_rQlVr8"
      },
      "execution_count": 29,
      "outputs": []
    },
    {
      "cell_type": "markdown",
      "source": [
        "5. Phase d'entrainement"
      ],
      "metadata": {
        "id": "uIzC0NuUoaY2"
      }
    },
    {
      "cell_type": "code",
      "source": [
        "theta_final, cost_history = gradient_descent(X, y, theta, learning_rate=0.01, n_iterations=400)"
      ],
      "metadata": {
        "id": "7KGwo9KIoZzJ"
      },
      "execution_count": 30,
      "outputs": []
    },
    {
      "cell_type": "code",
      "source": [
        "theta_final# voici les parametres du modele une fois que la machine a été entrainée"
      ],
      "metadata": {
        "colab": {
          "base_uri": "https://localhost:8080/"
        },
        "id": "HcXs4tMJojxx",
        "outputId": "a471b5e6-1351-4e80-d7e7-a6dccaf94e66"
      },
      "execution_count": 31,
      "outputs": [
        {
          "output_type": "execute_result",
          "data": {
            "text/plain": [
              "array([[39.61468572],\n",
              "       [-0.0732464 ]])"
            ]
          },
          "metadata": {},
          "execution_count": 31
        }
      ]
    },
    {
      "cell_type": "code",
      "source": [
        "# création d'un vecteur prédictions qui contient les prédictions de notre modele final\n",
        "predictions = model(X, theta_final)\n",
        "\n",
        "# Affiche les résultats de prédictions (en rouge) par rapport a notre Dataset (en bleu)\n",
        "plt.scatter(x, y)\n",
        "plt.plot(x, predictions, c='r')"
      ],
      "metadata": {
        "colab": {
          "base_uri": "https://localhost:8080/",
          "height": 448
        },
        "id": "vRHEaLBUonIf",
        "outputId": "68d449fb-1c9b-407f-cc85-a9443cc01064"
      },
      "execution_count": 32,
      "outputs": [
        {
          "output_type": "execute_result",
          "data": {
            "text/plain": [
              "[<matplotlib.lines.Line2D at 0x79335f4ef990>]"
            ]
          },
          "metadata": {},
          "execution_count": 32
        },
        {
          "output_type": "display_data",
          "data": {
            "text/plain": [
              "<Figure size 640x480 with 1 Axes>"
            ],
            "image/png": "[encoded data removed]"
          },
          "metadata": {}
        }
      ]
    },
    {
      "cell_type": "markdown",
      "source": [
        "6. Courbes d'apprentissage"
      ],
      "metadata": {
        "id": "VTZliS_Fosad"
      }
    },
    {
      "cell_type": "code",
      "source": [
        "plt.plot(range(400), cost_history)"
      ],
      "metadata": {
        "colab": {
          "base_uri": "https://localhost:8080/",
          "height": 448
        },
        "id": "I3ZdNPJ1orhL",
        "outputId": "6f5de4b9-f3ab-4114-b670-7f7fcf90e93f"
      },
      "execution_count": 33,
      "outputs": [
        {
          "output_type": "execute_result",
          "data": {
            "text/plain": [
              "[<matplotlib.lines.Line2D at 0x79335f4d8790>]"
            ]
          },
          "metadata": {},
          "execution_count": 33
        },
        {
          "output_type": "display_data",
          "data": {
            "text/plain": [
              "<Figure size 640x480 with 1 Axes>"
            ],
            "image/png": "[encoded data removed]"
          },
          "metadata": {}
        }
      ]
    },
    {
      "cell_type": "code",
      "source": [
        "from google.colab import drive\n",
        "drive.mount('/content/drive')"
      ],
      "metadata": {
        "id": "n-9rCpsETSH-",
        "outputId": "320d55dd-bda1-4e41-ebf9-59237f39c4a0",
        "colab": {
          "base_uri": "https://localhost:8080/"
        }
      },
      "execution_count": 16,
      "outputs": [
        {
          "output_type": "stream",
          "name": "stdout",
          "text": [
            "Mounted at /content/drive\n"
          ]
        }
      ]
    },
    {
      "cell_type": "markdown",
      "source": [
        "7. Evaluation finale"
      ],
      "metadata": {
        "id": "7EuQ_SByo8lv"
      }
    },
    {
      "cell_type": "code",
      "source": [
        "def coef_determination(y, pred):\n",
        "    u = ((y - pred)**2).sum()\n",
        "    v = ((y - y.mean())**2).sum()\n",
        "    return 1 - u/v"
      ],
      "metadata": {
        "id": "O0RurEOMo_yH"
      },
      "execution_count": 34,
      "outputs": []
    },
    {
      "cell_type": "code",
      "source": [
        "coef_determination(y, predictions)"
      ],
      "metadata": {
        "colab": {
          "base_uri": "https://localhost:8080/"
        },
        "id": "M3729yLVpF92",
        "outputId": "f00cc81e-adad-4195-e5fc-5f485e901a8c"
      },
      "execution_count": 35,
      "outputs": [
        {
          "output_type": "execute_result",
          "data": {
            "text/plain": [
              "np.float64(0.9849014535509151)"
            ]
          },
          "metadata": {},
          "execution_count": 35
        }
      ]
    }
  ]
}