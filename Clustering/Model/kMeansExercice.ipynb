{
  "cells": [
    {
      "cell_type": "markdown",
      "metadata": {
        "id": "HLnxg-g7jZMm"
      },
      "source": [
        "# k-MEANS EXERCICE"
      ]
    },
    {
      "cell_type": "markdown",
      "metadata": {
        "id": "YIkbhSKIjZMs"
      },
      "source": [
        "# CHALLENGE\n",
        "\n",
        "For this challenge, I invite you to to the following:\n",
        "\n",
        "1. Import and prepare the `iris` dataset.\n",
        "1. Conduct a k-means cluster analysis.\n",
        "1. Visualize the clusters."
      ]
    },
    {
      "cell_type": "markdown",
      "metadata": {
        "id": "w-pGoKjkjZMu"
      },
      "source": [
        "# IMPORT LIBRARIES"
      ]
    },
    {
      "cell_type": "code",
      "execution_count": null,
      "metadata": {
        "id": "KOoCcyb1jZMv"
      },
      "outputs": [],
      "source": [
        "import pandas as pd                               # For dataframes\n",
        "import matplotlib.pyplot as plt                   # For plotting data\n",
        "import seaborn as sns                             # For plotting data\n",
        "from sklearn.cluster import KMeans                # For k-Means\n",
        "from sklearn.model_selection import GridSearchCV  # For grid search\n",
        "from sklearn.metrics import silhouette_score      # For metrics and scores\n",
        "from sklearn.preprocessing import StandardScaler  # For standardizing data"
      ]
    },
    {
      "cell_type": "markdown",
      "metadata": {
        "id": "I07Y-FjfjZMx"
      },
      "source": [
        "# LOAD DATA\n",
        "Read the `iris` from \"iris.csv\" in the data folder and save in `df`."
      ]
    },
    {
      "cell_type": "code",
      "execution_count": null,
      "metadata": {
        "scrolled": true,
        "id": "55LdGAwVjZMx"
      },
      "outputs": [],
      "source": [
        "# Reads the .csv file into variable df\n",
        "df = pd.read_csv('data/iris.csv')\n",
        "\n",
        "# Displays the first 5 rows of df\n",
        "df.head()"
      ]
    }
  ],
  "metadata": {
    "kernelspec": {
      "display_name": "Python 3",
      "language": "python",
      "name": "python3"
    },
    "language_info": {
      "codemirror_mode": {
        "name": "ipython",
        "version": 3
      },
      "file_extension": ".py",
      "mimetype": "text/x-python",
      "name": "python",
      "nbconvert_exporter": "python",
      "pygments_lexer": "ipython3",
      "version": "3.7.9"
    },
    "colab": {
      "name": "kMeansExercice.ipynb",
      "provenance": [],
      "collapsed_sections": []
    }
  },
  "nbformat": 4,
  "nbformat_minor": 0
}